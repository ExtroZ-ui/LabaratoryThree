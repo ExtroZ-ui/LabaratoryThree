{
 "cells": [
  {
   "cell_type": "code",
   "execution_count": 6,
   "metadata": {},
   "outputs": [
    {
     "name": "stdout",
     "output_type": "stream",
     "text": [
      "Минимальное количество разломов для плитки 2 × 3: 5\n",
      "Минимальное количество разломов для плитки 3 × 3: 8\n",
      "Минимальное количество разломов для плитки 1 × 1: 0\n",
      "Некорректный ввод. Введите два целых числа, разделенных пробелом, или 'выход' для завершения.\n",
      "Программа завершена.\n"
     ]
    }
   ],
   "source": [
    "def min_breaks(n, m):\n",
    "    # Если шоколадка уже 1x1, разломов не требуется\n",
    "    if n == 1 and m == 1:\n",
    "        return 0\n",
    "    # Если одна из сторон равна 1, то делаем (max(n, m) - 1) разломов\n",
    "    elif n == 1 or m == 1:\n",
    "        return max(n, m) - 1\n",
    "    # В общем случае используем рекурсию для разлома по вертикали и горизонтали\n",
    "    else:\n",
    "        # Минимум из двух случаев: разломаем сначала по вертикали или по горизонтали\n",
    "        return 1 + min(min_breaks(n - 1, m) + min_breaks(1, m),  # горизонтальный разлом\n",
    "                       min_breaks(n, m - 1) + min_breaks(n, 1))  # вертикальный разлом\n",
    "\n",
    "while True:\n",
    "    # Запрос на ввод размеров плитки\n",
    "    user_input = input(\"Введите размеры плитки (n и m) через пробел или введите 'выход' для завершения: \")\n",
    "    \n",
    "    # Проверяем, если пользователь ввел команду выхода\n",
    "    if user_input.lower() == 'выход':\n",
    "        print(\"Программа завершена.\")\n",
    "        break\n",
    "    \n",
    "    try:\n",
    "        # Разбиваем ввод на два числа\n",
    "        n, m = map(int, user_input.split())\n",
    "        \n",
    "        # Проверка на положительные значения n и m\n",
    "        if n <= 0 or m <= 0:\n",
    "            print(\"Размеры плитки должны быть положительными целыми числами. Попробуйте еще раз.\")\n",
    "            continue\n",
    "        \n",
    "        # Вычисляем и выводим результат\n",
    "        result = min_breaks(n, m)\n",
    "        print(f\"Минимальное количество разломов для плитки {n} × {m}: {result}\")\n",
    "    \n",
    "    except ValueError:\n",
    "        print(\"Некорректный ввод. Введите два целых числа, разделенных пробелом, или 'выход' для завершения.\")\n"
   ]
  }
 ],
 "metadata": {
  "kernelspec": {
   "display_name": "Python 3",
   "language": "python",
   "name": "python3"
  },
  "language_info": {
   "codemirror_mode": {
    "name": "ipython",
    "version": 3
   },
   "file_extension": ".py",
   "mimetype": "text/x-python",
   "name": "python",
   "nbconvert_exporter": "python",
   "pygments_lexer": "ipython3",
   "version": "3.12.6"
  }
 },
 "nbformat": 4,
 "nbformat_minor": 2
}
